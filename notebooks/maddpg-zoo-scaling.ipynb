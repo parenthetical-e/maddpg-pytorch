{
 "cells": [
  {
   "cell_type": "markdown",
   "metadata": {},
   "source": [
    "# Env reward scaling - pettingzoo w/ MADDPG\n",
    "\n",
    "Ensures standard MADDPG works w/ my fold-change reward scaling scheme\n",
    "\n",
    "Scales using MovingFoldChangeReward. \n",
    "\n",
    "### Background\n",
    "In Dualer models I put reward and intrinsic rewards in competition. This means the two values must be matched up. Or put another way, that need to have common units. There are many ways to do that. Let's consider a biological motivated approach to reward normalization inspired by:\n",
    "\n",
    "    - Adler, M., and Alon, U. (2018). Fold-change detection in biological\n",
    "    systems. Current Opinion in Systems Biology 8, 81–89.\n",
    "    - Karin, O., and Alon, U. (2021). The dopamine circuit as a reward-taxis navigation system. BioRxiv 439955, 30.\n",
    "\n",
    "We'll try several `envs`"
   ]
  },
  {
   "cell_type": "code",
   "execution_count": 1,
   "metadata": {},
   "outputs": [],
   "source": [
    "%load_ext autoreload\n",
    "%autoreload 2"
   ]
  },
  {
   "cell_type": "code",
   "execution_count": 2,
   "metadata": {},
   "outputs": [],
   "source": [
    "import gym\n",
    "from gym.spaces import Box\n",
    "import numpy as np\n",
    "import torch \n",
    "\n",
    "from copy import deepcopy\n",
    "from collections import defaultdict\n",
    "\n",
    "import pettingzoo\n",
    "from pettingzoo import mpe\n",
    "import supersuit as ss\n",
    "from supersuit import clip_actions_v0\n",
    "\n",
    "from infoduel_maddpg.utils.buffer import ReplayBuffer\n",
    "from infoduel_maddpg.core import MADDPG\n",
    "\n",
    "from infoduel_maddpg.utils.academic_wrappers import StatePrediction\n",
    "from infoduel_maddpg.utils.normalize_wrappers import ClipReward\n",
    "from infoduel_maddpg.utils.normalize_wrappers import MovingFoldChangeReward"
   ]
  },
  {
   "cell_type": "code",
   "execution_count": 3,
   "metadata": {},
   "outputs": [],
   "source": [
    "import matplotlib.pyplot as plt \n",
    "%matplotlib inline"
   ]
  },
  {
   "cell_type": "markdown",
   "metadata": {},
   "source": [
    "# Init"
   ]
  },
  {
   "cell_type": "code",
   "execution_count": 4,
   "metadata": {},
   "outputs": [],
   "source": [
    "env_name = \"simple_v2\"\n",
    "# env_name = \"simple_tag_v2\""
   ]
  },
  {
   "cell_type": "code",
   "execution_count": 5,
   "metadata": {},
   "outputs": [],
   "source": [
    "seed = 50\n",
    "n_episodes = 25000 # 25000\n",
    "episode_length = 25\n",
    "batch_size = 1024\n",
    "steps_per_update = 100\n",
    "do_fold = False\n",
    "do_clip = False\n",
    "init_noise_scale = 0.3\n",
    "final_noise_scale = 0.0\n",
    "n_exploration_eps = n_episodes"
   ]
  },
  {
   "cell_type": "markdown",
   "metadata": {},
   "source": [
    "# Init Env"
   ]
  },
  {
   "cell_type": "code",
   "execution_count": 6,
   "metadata": {},
   "outputs": [],
   "source": [
    "Env = getattr(mpe, env_name)\n",
    "env = Env.parallel_env(continuous_actions=True)\n",
    "env = clip_actions_v0(env)\n",
    "\n",
    "# Fold-change?\n",
    "if do_fold:\n",
    "    env  = MovingFoldChangeReward(\n",
    "        env, \n",
    "        intial_reference_reward=-1, \n",
    "        bias_reward=0, \n",
    "        # buffer_size=100, # debug \n",
    "        buffer_size=n_episodes//10\n",
    "    )\n",
    "# Clip?\n",
    "if do_clip:\n",
    "    env = ClipReward(env, min_reward=-100, max_reward=100)"
   ]
  },
  {
   "cell_type": "markdown",
   "metadata": {},
   "source": [
    "# Init policy"
   ]
  },
  {
   "cell_type": "code",
   "execution_count": 7,
   "metadata": {},
   "outputs": [],
   "source": [
    "# Make access to 'space' info in format that is\n",
    "# expected through the codebase\n",
    "action_space = [env.action_space(a) for a in env.possible_agents]\n",
    "observation_space = [env.observation_space(a) for a in env.possible_agents]\n",
    "\n",
    "maddpg = MADDPG.init_from_env(\n",
    "    env,\n",
    "    agent_alg=\"MADDPG\",\n",
    "    adversary_alg=\"MADDPG\",\n",
    "    tau=0.01,\n",
    "    lr=0.01,\n",
    "    hidden_dim=64,\n",
    ")\n",
    "replay_buffer = ReplayBuffer(\n",
    "    n_episodes,\n",
    "    maddpg.nagents,\n",
    "    [obsp.shape[0] for obsp in observation_space],\n",
    "    [acsp.shape[0] if isinstance(acsp, Box) else acsp.n for acsp in action_space],\n",
    ")"
   ]
  },
  {
   "cell_type": "markdown",
   "metadata": {},
   "source": [
    "## Run"
   ]
  },
  {
   "cell_type": "code",
   "execution_count": 8,
   "metadata": {},
   "outputs": [],
   "source": [
    "from tqdm import tqdm"
   ]
  },
  {
   "cell_type": "code",
   "execution_count": 9,
   "metadata": {},
   "outputs": [
    {
     "name": "stdout",
     "output_type": "stream",
     "text": [
      "----- Running: simple_v2 ------\n",
      "device: cpu\n"
     ]
    },
    {
     "name": "stderr",
     "output_type": "stream",
     "text": [
      "  0%|          | 0/25000 [00:00<?, ?it/s]/Users/qualia/anaconda3/envs/py39/lib/python3.9/site-packages/torch/nn/functional.py:1795: UserWarning: nn.functional.tanh is deprecated. Use torch.tanh instead.\n",
      "  warnings.warn(\"nn.functional.tanh is deprecated. Use torch.tanh instead.\")\n",
      "  0%|          | 36/25000 [00:01<09:54, 41.96it/s] /Users/qualia/Code/infoduel_maddpg/infoduel_maddpg/core.py:156: UserWarning: torch.nn.utils.clip_grad_norm is now deprecated in favor of torch.nn.utils.clip_grad_norm_.\n",
      "  torch.nn.utils.clip_grad_norm(curr_agent.critic.parameters(), 0.5)\n",
      "/Users/qualia/Code/infoduel_maddpg/infoduel_maddpg/core.py:189: UserWarning: torch.nn.utils.clip_grad_norm is now deprecated in favor of torch.nn.utils.clip_grad_norm_.\n",
      "  torch.nn.utils.clip_grad_norm(curr_agent.policy.parameters(), 0.5)\n",
      " 17%|█▋        | 4322/25000 [02:56<14:28, 23.80it/s]"
     ]
    }
   ],
   "source": [
    "print(f\"----- Running: {env_name} ------\")\n",
    "print(f\"device: cpu\")\n",
    "# print(f\"log_dir: {log_dir}\")\n",
    "\n",
    "total_rewards = []\n",
    "for n in tqdm(range(n_episodes)):\n",
    "    # print(f\"Episodes {n + 1}-{n + 2} of {n_episodes}\")\n",
    "\n",
    "    # --- Rollout prep\n",
    "    obs = env.reset()\n",
    "    maddpg.prep_rollouts(device=\"cpu\")\n",
    "    \n",
    "    # Explore (noise) decreases as we go.... \n",
    "    explr_pct_remaining = (\n",
    "            max(0, n_exploration_eps - n) / n_exploration_eps\n",
    "        )\n",
    "    maddpg.scale_noise(\n",
    "        final_noise_scale\n",
    "        + (init_noise_scale - final_noise_scale) * explr_pct_remaining\n",
    "    )\n",
    "    maddpg.reset_noise()\n",
    "\n",
    "    # --- do Rollout\n",
    "    for t in range(episode_length):\n",
    "\n",
    "        # If there are no agents the env\n",
    "        # should be restarted.\n",
    "        if len(env.agents) == 0:\n",
    "            obs = env.reset()\n",
    "\n",
    "        # rearrange observations for maddpg\n",
    "        torch_obs = [\n",
    "            torch.tensor(obs[a], requires_grad=False).unsqueeze(0)\n",
    "            for a in env.possible_agents\n",
    "        ]\n",
    "        # Agents act 'at once' (as parallelized AEC)\n",
    "        torch_agent_actions = maddpg.step(torch_obs, explore=True)\n",
    "        # rearrange actions for zoo environment\n",
    "        agent_actions = {}\n",
    "        for a, ac in zip(env.possible_agents, torch_agent_actions):\n",
    "            # The env will only accept 'env.possible_agents',\n",
    "            # so we filter out the dead\n",
    "            if a in env.possible_agents:\n",
    "                agent_actions[a] = ac.data.numpy().flatten()\n",
    "        # !\n",
    "        next_obs, rewards, dones, infos = env.step(agent_actions)\n",
    "        replay_buffer.push(\n",
    "            [obs[a] for a in env.possible_agents],\n",
    "            [agent_actions[a] for a in env.possible_agents],\n",
    "            [rewards[a] for a in env.possible_agents],\n",
    "            [next_obs[a] for a in env.possible_agents],\n",
    "            [dones[a] for a in env.possible_agents],\n",
    "        )\n",
    "\n",
    "        # setup for next step\n",
    "        obs = next_obs\n",
    "        t += 1\n",
    "\n",
    "        # --- Train (ugly code)?\n",
    "        if (\n",
    "            len(replay_buffer) >= batch_size\n",
    "            and (t % steps_per_update) == 1\n",
    "        ):\n",
    "            maddpg.prep_training(device=\"cpu\")\n",
    "            for a_i, a_n in enumerate(env.possible_agents):\n",
    "                sample = replay_buffer.sample(batch_size, \"cpu\")\n",
    "                maddpg.update(sample, a_i, a_n, logger=None)\n",
    "            maddpg.update_all_targets()\n",
    "            maddpg.prep_rollouts(device=\"cpu\")\n",
    "    \n",
    "    # -- Log (ep)\n",
    "    episode_reward = replay_buffer.get_average_rewards(episode_length)\n",
    "    total_rewards.append(deepcopy(episode_reward))"
   ]
  },
  {
   "cell_type": "markdown",
   "metadata": {},
   "source": [
    "## Visualize"
   ]
  },
  {
   "cell_type": "code",
   "execution_count": 33,
   "metadata": {},
   "outputs": [
    {
     "data": {
      "text/plain": [
       "Text(0, 0.5, 'Reward')"
      ]
     },
     "execution_count": 33,
     "metadata": {},
     "output_type": "execute_result"
    },
    {
     "data": {
      "image/png": "[encoded data removed]",
      "text/plain": [
       "<Figure size 720x216 with 1 Axes>"
      ]
     },
     "metadata": {
      "needs_background": "light"
     },
     "output_type": "display_data"
    }
   ],
   "source": [
    "agent = \"agent_0\"\n",
    "# total_rewards = np.concatenate(total_rewards)\n",
    "\n",
    "fig, (ax1) = plt.subplots(1, 1, figsize=(10, 3))\n",
    "times = np.arange(0, total_rewards.size)\n",
    "ax1.plot(times, total_rewards, '.-', color=\"black\", label=\"reward\")\n",
    "if do_fold:\n",
    "    ax1.axhline(\n",
    "        env.reference_reward[agent].mean(), \n",
    "        color='black', \n",
    "        linestyle='dashed', \n",
    "        linewidth=2\n",
    "    )\n",
    "ax1.set_ylabel(\"Reward\")\n",
    "# ax1.set_ylim(-10, 10)\n",
    "# ax2.semilogy()"
   ]
  },
  {
   "cell_type": "code",
   "execution_count": null,
   "metadata": {},
   "outputs": [],
   "source": []
  },
  {
   "cell_type": "code",
   "execution_count": null,
   "metadata": {},
   "outputs": [],
   "source": []
  }
 ],
 "metadata": {
  "interpreter": {
   "hash": "7e89847e936c8c95f8cbdafeaa6e7c814f27278d8de21943cca2b199a4582e4c"
  },
  "kernelspec": {
   "display_name": "Python 3.9.9 ('py39')",
   "language": "python",
   "name": "python3"
  },
  "language_info": {
   "codemirror_mode": {
    "name": "ipython",
    "version": 3
   },
   "file_extension": ".py",
   "mimetype": "text/x-python",
   "name": "python",
   "nbconvert_exporter": "python",
   "pygments_lexer": "ipython3",
   "version": "3.9.9"
  },
  "orig_nbformat": 4
 },
 "nbformat": 4,
 "nbformat_minor": 2
}
