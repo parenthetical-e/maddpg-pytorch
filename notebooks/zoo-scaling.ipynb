{
 "cells": [
  {
   "cell_type": "markdown",
   "metadata": {},
   "source": [
    "# Env reward scaling - pettingzoo\n",
    "\n",
    "Acts as a testbed for academics using 2 or 3d shaped data. \n",
    "\n",
    "Scales using MovingFoldChangeReward. \n",
    "\n",
    "### Background\n",
    "In Dualer models I put reward and intrinsic rewards in competition. This means the two values must be matched up. Or put another way, that need to have common units. There are many ways to do that. Let's consider a biological motivated approach to reward normalization inspired by:\n",
    "\n",
    "    - Adler, M., and Alon, U. (2018). Fold-change detection in biological\n",
    "    systems. Current Opinion in Systems Biology 8, 81–89.\n",
    "    - Karin, O., and Alon, U. (2021). The dopamine circuit as a reward-taxis navigation system. BioRxiv 439955, 30.\n",
    "\n",
    "We'll try several `envs`"
   ]
  },
  {
   "cell_type": "code",
   "execution_count": 1,
   "metadata": {},
   "outputs": [],
   "source": [
    "%load_ext autoreload\n",
    "%autoreload 2"
   ]
  },
  {
   "cell_type": "code",
   "execution_count": 6,
   "metadata": {},
   "outputs": [],
   "source": [
    "import gym\n",
    "import numpy as np\n",
    "import torch as th\n",
    "\n",
    "from copy import deepcopy\n",
    "from collections import defaultdict\n",
    "\n",
    "import pettingzoo\n",
    "from pettingzoo import mpe\n",
    "import supersuit as ss\n",
    "\n",
    "from infoduel_maddpg.utils.academic_wrappers import StatePrediction\n",
    "from infoduel_maddpg.utils.normalize_wrappers import ClipReward\n",
    "from infoduel_maddpg.utils.normalize_wrappers import MovingFoldChangeReward"
   ]
  },
  {
   "cell_type": "code",
   "execution_count": 2,
   "metadata": {},
   "outputs": [],
   "source": [
    "import matplotlib.pyplot as plt \n",
    "%matplotlib inline"
   ]
  },
  {
   "cell_type": "markdown",
   "metadata": {},
   "source": [
    "## Scratch pad\n",
    "Playing with various fold-change implementationss to handle sign changes and other inconveniences."
   ]
  },
  {
   "cell_type": "code",
   "execution_count": null,
   "metadata": {},
   "outputs": [],
   "source": [
    "import numpy as np\n",
    "\n",
    "x = np.linspace(-500, 1000, 10000)\n",
    "ref = -200\n",
    "\n",
    "def fold_change1(x, ref):\n",
    "    delta = x - ref\n",
    "    fold = delta / ref\n",
    "    signs = np.sign(ref)\n",
    "    fold = fold * signs\n",
    "    return fold\n",
    "\n",
    "def fold_change2(x, ref):\n",
    "    delta = x - ref\n",
    "    signs = np.sign(delta)\n",
    "    fold = np.abs(delta) / np.abs(ref)\n",
    "    fold = np.log10(fold)\n",
    "    return fold #* signs\n",
    "\n",
    "def sigmoid(x):\n",
    "    return 1 / (1 + np.exp(-x*.5))\n",
    "\n",
    "# print(x, fold_change(x, ref))\n",
    "plt.figure()\n",
    "plt.plot(x, fold_change1(x, ref), '.', color=\"blue\")\n",
    "plt.axhline(0, color='k')\n",
    "plt.axhline(0, color='k')\n",
    "plt.axvline(ref, color='k')\n",
    "\n",
    "plt.figure()\n",
    "plt.plot(x, sigmoid(fold_change1(x, ref)) - 0.5, '.', color=\"green\")\n",
    "plt.axhline(0, color='k')\n",
    "plt.axhline(0, color='k')\n",
    "plt.axvline(ref, color='k')"
   ]
  },
  {
   "cell_type": "markdown",
   "metadata": {},
   "source": [
    "# Init"
   ]
  },
  {
   "cell_type": "code",
   "execution_count": 3,
   "metadata": {},
   "outputs": [],
   "source": [
    "env_name = \"simple_v2\"\n",
    "# env_name = \"simple_tag_v2\""
   ]
  },
  {
   "cell_type": "code",
   "execution_count": 13,
   "metadata": {},
   "outputs": [],
   "source": [
    "seed = 50\n",
    "total_timesteps = 25000\n",
    "lr_academic = 0.001\n",
    "do_fold = True\n",
    "do_clip = False"
   ]
  },
  {
   "cell_type": "markdown",
   "metadata": {},
   "source": [
    "# Init Env"
   ]
  },
  {
   "cell_type": "code",
   "execution_count": 22,
   "metadata": {},
   "outputs": [],
   "source": [
    "Env = getattr(mpe, env_name)\n",
    "env = Env.parallel_env(continuous_actions=True)\n",
    "\n",
    "academic = Env.parallel_env(continuous_actions=True)\n",
    "academic = StatePrediction(\n",
    "        academic,\n",
    "        network_hidden=[64],\n",
    "        lr=lr_academic,\n",
    "        device=\"cpu\",\n",
    "    )\n",
    "    \n",
    "# Fold-change?\n",
    "if do_fold:\n",
    "    env  = MovingFoldChangeReward(\n",
    "        env, \n",
    "        intial_reference_reward=-2, \n",
    "        bias_reward=0, \n",
    "    )\n",
    "    academic = MovingFoldChangeReward(\n",
    "        academic, \n",
    "        intial_reference_reward=0.01, \n",
    "        bias_reward=0, \n",
    "    )\n",
    "# Clip?\n",
    "if do_clip:\n",
    "    env = ClipReward(env, min_reward=-100, max_reward=100)\n",
    "    academic = ClipReward(academic, min_reward=-100, max_reward=100)"
   ]
  },
  {
   "cell_type": "markdown",
   "metadata": {},
   "source": [
    "## Random policy"
   ]
  },
  {
   "cell_type": "code",
   "execution_count": 23,
   "metadata": {},
   "outputs": [],
   "source": [
    "total_rewards = defaultdict(list)\n",
    "total_infovals = defaultdict(list)\n",
    "\n",
    "env.reset()\n",
    "academic.reset()\n",
    "for t in range(total_timesteps):\n",
    "    if len(env.agents) == 0:\n",
    "        states = env.reset()\n",
    "        states = academic.reset()\n",
    "    # Decide\n",
    "    actions = {}\n",
    "    for a in env.agents:\n",
    "        actions[a] = env.action_space(a).sample()\n",
    "    # Act\n",
    "    next_obs, rewards, dones, infos = env.step(actions)\n",
    "    next_obs, infovals, dones, infos = academic.step(actions)\n",
    "    # Log\n",
    "    for a in env.possible_agents:\n",
    "        try:\n",
    "            total_rewards[a].append(rewards[a])\n",
    "            total_infovals[a].append(infovals[a])\n",
    "        except KeyError:\n",
    "            pass"
   ]
  },
  {
   "cell_type": "markdown",
   "metadata": {},
   "source": [
    "## Scratch cells"
   ]
  },
  {
   "cell_type": "code",
   "execution_count": 27,
   "metadata": {},
   "outputs": [
    {
     "data": {
      "text/plain": [
       "{'agent_0': <infoduel_maddpg.utils.normalize_wrappers.RunningStats at 0x1478af250>}"
      ]
     },
     "execution_count": 27,
     "metadata": {},
     "output_type": "execute_result"
    }
   ],
   "source": [
    "env.buffer"
   ]
  },
  {
   "cell_type": "code",
   "execution_count": 28,
   "metadata": {},
   "outputs": [
    {
     "data": {
      "text/plain": [
       "{'agent_0': array(-1.74, dtype=float16)}"
      ]
     },
     "execution_count": 28,
     "metadata": {},
     "output_type": "execute_result"
    }
   ],
   "source": [
    "env.reference_reward"
   ]
  },
  {
   "cell_type": "markdown",
   "metadata": {},
   "source": [
    "# Visualize"
   ]
  },
  {
   "cell_type": "code",
   "execution_count": 29,
   "metadata": {},
   "outputs": [
    {
     "name": "stdout",
     "output_type": "stream",
     "text": [
      "[0.60965042 0.51550066 0.43376803 ... 0.6769231  0.65018826 0.63287476]\n"
     ]
    },
    {
     "data": {
      "text/plain": [
       "[<matplotlib.lines.Line2D at 0x14be2dc10>]"
      ]
     },
     "execution_count": 29,
     "metadata": {},
     "output_type": "execute_result"
    },
    {
     "data": {
      "image/png": "[encoded data removed]",
      "text/plain": [
       "<Figure size 720x720 with 3 Axes>"
      ]
     },
     "metadata": {
      "needs_background": "light"
     },
     "output_type": "display_data"
    }
   ],
   "source": [
    "agent = \"agent_0\"\n",
    "fig, (ax1, ax2, ax3) = plt.subplots(3, 1, figsize=(10, 10))\n",
    "\n",
    "times = np.arange(0, len(total_rewards[agent]))\n",
    "\n",
    "ax1.plot(times, total_rewards[agent], '.-', color=\"black\", label=\"reward\")\n",
    "if do_fold:\n",
    "    ax1.axhline(\n",
    "        env.reference_reward[agent].mean(), \n",
    "        color='black', \n",
    "        linestyle='dashed', \n",
    "        linewidth=2\n",
    "    )\n",
    "ax1.set_ylabel(\"Reward\")\n",
    "# ax1.set_ylim(-10, 10)\n",
    "# ax2.semilogy()\n",
    "\n",
    "times = np.arange(0, len(total_infovals[agent]))\n",
    "ax2.plot(times, total_infovals[agent], '.-', color=\"purple\", label=\"intrinsic\")\n",
    "if do_fold:\n",
    "    ax2.axhline(\n",
    "        academic.reference_reward[agent].mean(), \n",
    "        color='purple', \n",
    "        linestyle='dashed', \n",
    "        linewidth=2\n",
    "    )\n",
    "ax2.set_ylabel(\"Info. value\")\n",
    "# ax2.semilogy()\n",
    "# ax2.set_ylim(-10, 10)\n",
    "\n",
    "# mimic WSLS\n",
    "eta = 0\n",
    "meta = []\n",
    "rewards = np.asarray(total_rewards[agent])\n",
    "infovals = np.asarray(total_infovals[agent])\n",
    "meta = (infovals - eta) > rewards\n",
    "print(rewards)\n",
    "times = np.arange(0, len(meta))\n",
    "ax3.plot(times, meta, '.', color=\"grey\", label=\"WSLS\")"
   ]
  },
  {
   "cell_type": "code",
   "execution_count": null,
   "metadata": {},
   "outputs": [],
   "source": []
  },
  {
   "cell_type": "code",
   "execution_count": null,
   "metadata": {},
   "outputs": [],
   "source": []
  }
 ],
 "metadata": {
  "interpreter": {
   "hash": "7e89847e936c8c95f8cbdafeaa6e7c814f27278d8de21943cca2b199a4582e4c"
  },
  "kernelspec": {
   "display_name": "Python 3.9.9 ('py39')",
   "language": "python",
   "name": "python3"
  },
  "language_info": {
   "codemirror_mode": {
    "name": "ipython",
    "version": 3
   },
   "file_extension": ".py",
   "mimetype": "text/x-python",
   "name": "python",
   "nbconvert_exporter": "python",
   "pygments_lexer": "ipython3",
   "version": "3.9.9"
  },
  "orig_nbformat": 4
 },
 "nbformat": 4,
 "nbformat_minor": 2
}
